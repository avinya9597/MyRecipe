{
 "cells": [
  {
   "cell_type": "code",
   "execution_count": 25,
   "id": "88871bf8",
   "metadata": {
    "scrolled": false
   },
   "outputs": [],
   "source": [
    "# # install required libraries\n",
    "# !pip install openai\n",
    "# !pip install langchain\n",
    "# !pip install --upgrade langchain openai -q\n",
    "# !pip install sentence-transformers"
   ]
  },
  {
   "cell_type": "code",
   "execution_count": 8,
   "id": "2f141ba7",
   "metadata": {},
   "outputs": [],
   "source": [
    "# importing libraries\n",
    "import os\n",
    "import openai\n",
    "from pinecone import Pinecone\n",
    "import langchain\n",
    "from langchain.embeddings.openai import OpenAIEmbeddings\n",
    "from langchain.llms import OpenAI"
   ]
  },
  {
   "cell_type": "code",
   "execution_count": 48,
   "id": "1ad15cf1",
   "metadata": {},
   "outputs": [],
   "source": [
    "index_name = \"semanticsearch\"\n",
    "token = token\n",
    "llm = OpenAI(temperature=0.0, api_key=token)"
   ]
  },
  {
   "cell_type": "code",
   "execution_count": 49,
   "id": "07863a05",
   "metadata": {},
   "outputs": [],
   "source": [
    "API_KEY= api_key\n",
    "ENVIRONMENT = 'gcp-starter'\n",
    "\n",
    "from pinecone import Pinecone, ServerlessSpec\n",
    "pc = Pinecone(api_key= API_KEY, environment = ENVIRONMENT)"
   ]
  },
  {
   "cell_type": "code",
   "execution_count": 50,
   "id": "e8435319",
   "metadata": {},
   "outputs": [],
   "source": [
    "myindex = pc.Index(host= host_name)"
   ]
  },
  {
   "cell_type": "code",
   "execution_count": 51,
   "id": "ee781fe4",
   "metadata": {},
   "outputs": [
    {
     "data": {
      "text/plain": [
       "SentenceTransformer(\n",
       "  (0): Transformer({'max_seq_length': 256, 'do_lower_case': False}) with Transformer model: BertModel \n",
       "  (1): Pooling({'word_embedding_dimension': 384, 'pooling_mode_cls_token': False, 'pooling_mode_mean_tokens': True, 'pooling_mode_max_tokens': False, 'pooling_mode_mean_sqrt_len_tokens': False})\n",
       "  (2): Normalize()\n",
       ")"
      ]
     },
     "execution_count": 51,
     "metadata": {},
     "output_type": "execute_result"
    }
   ],
   "source": [
    "from sentence_transformers import SentenceTransformer\n",
    "import torch\n",
    "\n",
    "device = 'cuda' if torch.cuda.is_available() else 'cpu'\n",
    "\n",
    "model = SentenceTransformer('sentence-transformers/all-MiniLM-L6-v2', device=device)\n",
    "model"
   ]
  },
  {
   "cell_type": "code",
   "execution_count": 60,
   "id": "73733dd1",
   "metadata": {
    "scrolled": false
   },
   "outputs": [],
   "source": [
    "rquery = 'food_category: Breakfast,preparation_time: 00:00:15, included_ingredients: eggs, bacon,excluded_ingredients: milk,description: I am in the mood for a quick breakfast'\n",
    "# create the query vector\n",
    "xq = model.encode(rquery).tolist()\n",
    "\n",
    "# now query\n",
    "xc = myindex.query(vector=xq, top_k=3, include_metadata=True)"
   ]
  },
  {
   "cell_type": "code",
   "execution_count": 80,
   "id": "9a921e18",
   "metadata": {
    "scrolled": true
   },
   "outputs": [],
   "source": [
    "from langchain.prompts import PromptTemplate\n",
    "from langchain.output_parsers import ResponseSchema, StructuredOutputParser\n",
    "from langchain.chains import LLMChain, SequentialChain\n",
    "\n",
    "def build_query_chain(llm):  # Ensure llm is of type Runnable\n",
    "    output_parser = StructuredOutputParser.from_response_schemas([ResponseSchema(name=\"query_vector\", description=\"The vector used to query the vector database in order to find the most suitable recipes\")])\n",
    "\n",
    "    response_format = output_parser.get_format_instructions()\n",
    "\n",
    "    prompt = PromptTemplate.from_template(\n",
    "        template=\"\"\"\n",
    "        You are a food recommender bot. Your task is to pick from a recipes database the recipe that better fits the user preference.\n",
    "        \n",
    "        Take your time to understand the following user preferences:\n",
    "        'food_category':{food_category}\n",
    "        'preparation_time':{preparation_time}\n",
    "        'included_ingredients':{included_ingredients}\n",
    "        'excluded_ingredients':{excluded_ingredients}\n",
    "        'description':{description}\n",
    "        \n",
    "        Now take your time to gather those preferences and create a string to perform a similarity search on a vector database containing food recipes.\n",
    "        The query must be clear and specific, utilizing relevant features.\n",
    "        \n",
    "        {response_format}\n",
    "        \"\"\"\n",
    "    )\n",
    "\n",
    "    query_chain = LLMChain(llm=llm, prompt=prompt, output_key='query_vector')\n",
    "\n",
    "    chain = SequentialChain(\n",
    "        chains=[query_chain],\n",
    "        input_variables=['food_category', 'preparation_time', 'included_ingredients', 'excluded_ingredients', 'description'] + ['response_format'],\n",
    "        output_variables=['query_vector'],\n",
    "        verbose=False\n",
    "    )\n",
    "\n",
    "    return chain, response_format, output_parser"
   ]
  },
  {
   "cell_type": "code",
   "execution_count": 81,
   "id": "6bd3bb7c",
   "metadata": {},
   "outputs": [],
   "source": [
    "# Now, let's create the query chain\n",
    "chain, response_format, output_parser = build_query_chain(llm)"
   ]
  },
  {
   "cell_type": "code",
   "execution_count": 82,
   "id": "13cd0cd9",
   "metadata": {},
   "outputs": [
    {
     "data": {
      "text/plain": [
       "StructuredOutputParser(response_schemas=[ResponseSchema(name='query_vector', description='The vector used to query the vector database in order to find the most suitable recipes', type='string')])"
      ]
     },
     "execution_count": 82,
     "metadata": {},
     "output_type": "execute_result"
    }
   ],
   "source": [
    "output_parser"
   ]
  },
  {
   "cell_type": "code",
   "execution_count": 85,
   "id": "e1a76625",
   "metadata": {},
   "outputs": [
    {
     "name": "stdout",
     "output_type": "stream",
     "text": [
      "{'matches': [{'id': 'Quick Cream Cheese, Spinach &amp; Bacon Dip (Microwave)',\n",
      "              'metadata': {'AggregatedRating': 5.0,\n",
      "                           'Calories': 84.1,\n",
      "                           'CarbohydrateContent': 2.1,\n",
      "                           'CarbohydratePercentage': 0.099881094,\n",
      "                           'CholesterolContent': 18.9,\n",
      "                           'CookTime': '0:05:00',\n",
      "                           'FatContent': 6.9,\n",
      "                           'FatPercentage': 0.738406659,\n",
      "                           'FiberContent': 0.2,\n",
      "                           'Ingredients': \"{'Spinach': '1', 'Velveeta Cheese': \"\n",
      "                                          \"'1', 'Cream Cheese': '4', 'Tomatoes \"\n",
      "                                          \"And Green Chilies': '1', 'Bacon': \"\n",
      "                                          \"'8'}\",\n",
      "                           'Keywords': \"['< 15 Mins', 'For Large Groups', \"\n",
      "                                       \"'Beginner Cook', 'Easy']\",\n",
      "                           'PrepTime': '0:05:00',\n",
      "                           'ProteinContent': 3.5,\n",
      "                           'ProteinPercentage': 0.16646849,\n",
      "                           'RecipeCategory': 'Vegetable',\n",
      "                           'RecipeInstructions': 'COMBINE ingredients in '\n",
      "                                                 'microwaveable bowl.\\n'\n",
      "                                                 'MICROWAVE on HIGH 5 minute '\n",
      "                                                 'or until VELVEETA is '\n",
      "                                                 'completely melted and '\n",
      "                                                 'mixture is well blended, '\n",
      "                                                 'stirring after 3 minute.',\n",
      "                           'RecipeServings': 32.0,\n",
      "                           'RecipeYield': '4 Cups',\n",
      "                           'SaturatedFatContent': 3.6,\n",
      "                           'SodiumContent': 310.1,\n",
      "                           'SugarContent': 1.2,\n",
      "                           'SugarPercentage': 0.057074911,\n",
      "                           'TotalTime': '0:10:00'},\n",
      "              'score': 0.386251479,\n",
      "              'values': []},\n",
      "             {'id': 'Canadian-Bacon-And-Cheese Quesadillas With Arugula Salad',\n",
      "              'metadata': {'AggregatedRating': '',\n",
      "                           'Calories': 540.5,\n",
      "                           'CarbohydrateContent': 62.8,\n",
      "                           'CarbohydratePercentage': 0.464754857,\n",
      "                           'CholesterolContent': 50.6,\n",
      "                           'CookTime': '0:06:00',\n",
      "                           'FatContent': 19.1,\n",
      "                           'FatPercentage': 0.318038853,\n",
      "                           'FiberContent': 4.2,\n",
      "                           'Ingredients': \"{'Flour Tortillas': '8', 'Canadian \"\n",
      "                                          \"Bacon': '8', 'Mozzarella Cheese': \"\n",
      "                                          \"'1', 'Yellow Bell Pepper': '1', \"\n",
      "                                          \"'Arugula': '4'}\",\n",
      "                           'Keywords': \"['Cheese', 'Greens', 'Vegetable', \"\n",
      "                                       \"'Meat', 'Toddler Friendly', 'Kid \"\n",
      "                                       \"Friendly', 'Weeknight', 'Brunch', '< \"\n",
      "                                       \"15 Mins', 'Easy', 'Inexpensive']\",\n",
      "                           'PrepTime': '0:05:00',\n",
      "                           'ProteinContent': 28.2,\n",
      "                           'ProteinPercentage': 0.208695652,\n",
      "                           'RecipeCategory': 'Pork',\n",
      "                           'RecipeInstructions': 'eheat oven to 400°F  Coat 2 '\n",
      "                                                 'large baking sheets with '\n",
      "                                                 'cooking spray.  Place 2 '\n",
      "                                                 'tortillas on each baking '\n",
      "                                                 'sheet.  Divide 8 slices of '\n",
      "                                                 'Canadian bacon and 1 cup '\n",
      "                                                 'cheese among tortillas.  '\n",
      "                                                 'Sprinkle each tortilla wit 3 '\n",
      "                                                 'tablespoons of bell pepper.  '\n",
      "                                                 'Top with 3 tablespoons bell '\n",
      "                                                 'pepper.  Top with remaining '\n",
      "                                                 'tortillas.  Bake at 400°F '\n",
      "                                                 'for 5 minutes, or until '\n",
      "                                                 'cheese melts.  Toss 4 cups '\n",
      "                                                 'arugula with 1 tablespoon '\n",
      "                                                 'vinaigrette.  Cut quesadilla '\n",
      "                                                 'into 4 wedges, and sprinkle '\n",
      "                                                 'with remaining bell pepper.  '\n",
      "                                                 'Serve quesadillas with '\n",
      "                                                 'arugula salad',\n",
      "                           'RecipeServings': 4.0,\n",
      "                           'RecipeYield': '4',\n",
      "                           'SaturatedFatContent': 7.1,\n",
      "                           'SodiumContent': 1697.3,\n",
      "                           'SugarContent': 2.9,\n",
      "                           'SugarPercentage': 0.02146161,\n",
      "                           'TotalTime': '0:11:00'},\n",
      "              'score': 0.32886222,\n",
      "              'values': []},\n",
      "             {'id': 'West Indian Bean Dip',\n",
      "              'metadata': {'AggregatedRating': 5.0,\n",
      "                           'Calories': 681.6,\n",
      "                           'CarbohydrateContent': 70.2,\n",
      "                           'CarbohydratePercentage': 0.411971831,\n",
      "                           'CholesterolContent': 60.9,\n",
      "                           'CookTime': '0:10:00',\n",
      "                           'FatContent': 31.4,\n",
      "                           'FatPercentage': 0.414612676,\n",
      "                           'FiberContent': 14.7,\n",
      "                           'Ingredients': \"{'Bacon': '6', 'Onions': '1 1/2', \"\n",
      "                                          \"'Garlic': '2', 'Chili Powder': '1', \"\n",
      "                                          \"'Ground Cumin': '1', 'White Beans': \"\n",
      "                                          \"'2', 'Monterey Jack Cheese': '1', \"\n",
      "                                          \"'Sour Cream': '1/2', 'Plain \"\n",
      "                                          'Yogurt\\': \\'1\", NA, N\\'}',\n",
      "                           'Keywords': \"['Lunch/Snacks', 'Pork', 'Beans', \"\n",
      "                                       \"'Meat', 'Potluck', '< 15 Mins', 'Small \"\n",
      "                                       \"Appliance', 'Easy']\",\n",
      "                           'PrepTime': '0:05:00',\n",
      "                           'ProteinContent': 32.6,\n",
      "                           'ProteinPercentage': 0.191314554,\n",
      "                           'RecipeCategory': 'Spreads',\n",
      "                           'RecipeInstructions': '(If you want to use bacon, '\n",
      "                                                 'cook it and drain it. I '\n",
      "                                                 \"don't really like meat, so I \"\n",
      "                                                 'just omitted it).\\n'\n",
      "                                                 'In reserved fat (or just '\n",
      "                                                 'nonstick cooking spray!) '\n",
      "                                                 'cook onion and garlic with '\n",
      "                                                 'salt and pepper to taste '\n",
      "                                                 'over moderately low heat, '\n",
      "                                                 'stirring, until softened and '\n",
      "                                                 'pale golden.\\n'\n",
      "                                                 'Add chili powder and cumin '\n",
      "                                                 'and cook, stirring, 1 '\n",
      "                                                 'minutes.\\n'\n",
      "                                                 'Add beans and cook, '\n",
      "                                                 'stirring, 5 minutes.\\n'\n",
      "                                                 'In a food processor purée '\n",
      "                                                 'bean mixture with all '\n",
      "                                                 'remaining ingredients except '\n",
      "                                                 'bacon until smooth and '\n",
      "                                                 'transfer to a bowl.\", \\n'\n",
      "                                                 '\"Crumble bacon (if you '\n",
      "                                                 'want!) and stir into dip '\n",
      "                                                 'with salt and pepper to '\n",
      "                                                 'taste.\\n'\n",
      "                                                 'Dip may be made 1 day ahead '\n",
      "                                                 'and chilled, covered.\\n'\n",
      "                                                 'Bring dip to room '\n",
      "                                                 'temperature before serving '\n",
      "                                                 \"so you don't break tortilla \"\n",
      "                                                 'chips!\\n'\n",
      "                                                 'Serve dip with tortilla '\n",
      "                                                 'chips or crudités.',\n",
      "                           'RecipeServings': '',\n",
      "                           'RecipeYield': '4 Cups',\n",
      "                           'SaturatedFatContent': 14.5,\n",
      "                           'SodiumContent': 487.4,\n",
      "                           'SugarContent': 3.0,\n",
      "                           'SugarPercentage': 0.017605634,\n",
      "                           'TotalTime': '0:15:00'},\n",
      "              'score': 0.322877556,\n",
      "              'values': []}],\n",
      " 'namespace': '',\n",
      " 'usage': {'read_units': 6}}\n"
     ]
    }
   ],
   "source": [
    "# Now, let's run the query chain\n",
    "response = chain.run(food_category=\"Breakfast\",\n",
    "                      preparation_time=\"00:00:15\",\n",
    "                      included_ingredients=\"eggs, bacon\",\n",
    "                      excluded_ingredients=\"milk\",\n",
    "                      description=\"I am in the mood for a quick breakfast\",\n",
    "                      response_format=response_format)\n",
    "\n",
    "xq = model.encode(response).tolist()\n",
    "\n",
    "# now query\n",
    "xd = myindex.query(vector=xq, top_k=3, include_metadata=True)\n",
    "# Now, let's query the index with the obtained vector\n",
    "print(xd)\n"
   ]
  },
  {
   "cell_type": "code",
   "execution_count": 90,
   "id": "872251b8",
   "metadata": {},
   "outputs": [],
   "source": [
    "def fix_prep_time(prep_time):\n",
    "    # Your implementation to fix prep time if necessary\n",
    "    return prep_time\n",
    "\n",
    "recipe_options = [\n",
    "    {\n",
    "        \"name\": match['id'],\n",
    "        \"time\": fix_prep_time(match['metadata']['TotalTime']),\n",
    "        \"carbohydrates\": match['metadata']['CarbohydratePercentage'],\n",
    "        \"protein\": match['metadata']['ProteinPercentage'],\n",
    "        \"fat\": match['metadata']['FatPercentage'],\n",
    "        \"sugar\": match['metadata']['SugarPercentage'],\n",
    "        \"Cholestrol\": match['metadata']['CholesterolContent'],\n",
    "        \"instructions\": match['metadata']['RecipeInstructions'].replace('\\n', '').split('.')[:-1],\n",
    "        \"ingredients\": eval(match['metadata']['Ingredients'])\n",
    "    }\n",
    "    for match in xd['matches']\n",
    "]\n"
   ]
  },
  {
   "cell_type": "code",
   "execution_count": 92,
   "id": "593cb475",
   "metadata": {},
   "outputs": [
    {
     "data": {
      "text/plain": [
       "{'name': 'Quick Cream Cheese, Spinach &amp; Bacon Dip (Microwave)',\n",
       " 'time': '0:10:00',\n",
       " 'carbohydrates': 0.099881094,\n",
       " 'protein': 0.16646849,\n",
       " 'fat': 0.738406659,\n",
       " 'sugar': 0.057074911,\n",
       " 'instructions': ['COMBINE ingredients in microwaveable bowl',\n",
       "  'MICROWAVE on HIGH 5 minute or until VELVEETA is completely melted and mixture is well blended, stirring after 3 minute'],\n",
       " 'ingredients': {'Spinach': '1',\n",
       "  'Velveeta Cheese': '1',\n",
       "  'Cream Cheese': '4',\n",
       "  'Tomatoes And Green Chilies': '1',\n",
       "  'Bacon': '8'}}"
      ]
     },
     "execution_count": 92,
     "metadata": {},
     "output_type": "execute_result"
    }
   ],
   "source": [
    "recipe_options[0]"
   ]
  },
  {
   "cell_type": "code",
   "execution_count": null,
   "id": "c633a757",
   "metadata": {},
   "outputs": [],
   "source": [
    "#*************************************************************************************************************************#"
   ]
  }
 ],
 "metadata": {
  "kernelspec": {
   "display_name": "Python 3 (ipykernel)",
   "language": "python",
   "name": "python3"
  },
  "language_info": {
   "codemirror_mode": {
    "name": "ipython",
    "version": 3
   },
   "file_extension": ".py",
   "mimetype": "text/x-python",
   "name": "python",
   "nbconvert_exporter": "python",
   "pygments_lexer": "ipython3",
   "version": "3.11.8"
  }
 },
 "nbformat": 4,
 "nbformat_minor": 5
}
